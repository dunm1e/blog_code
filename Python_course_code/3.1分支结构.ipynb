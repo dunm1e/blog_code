{
 "cells": [
  {
   "cell_type": "code",
   "execution_count": 3,
   "metadata": {},
   "outputs": [
    {
     "name": "stdout",
     "output_type": "stream",
     "text": [
      "number is 5\n"
     ]
    }
   ],
   "source": [
    "# 测试是否相等（条件测试）\n",
    "# 1. 检查是否相等\n",
    "number = 5\n",
    "if number == 5:\n",
    "    print(\"number is 5\")\n",
    "    "
   ]
  },
  {
   "cell_type": "code",
   "execution_count": 4,
   "metadata": {},
   "outputs": [
    {
     "name": "stdout",
     "output_type": "stream",
     "text": [
      "number is not 6\n"
     ]
    }
   ],
   "source": [
    "#2. 检查是否不相等\n",
    "number = 5\n",
    "if number != 6:\n",
    "    print(\"number is not 6\")"
   ]
  },
  {
   "cell_type": "code",
   "execution_count": 6,
   "metadata": {},
   "outputs": [
    {
     "name": "stdout",
     "output_type": "stream",
     "text": [
      "number > 3 and number < 6\n"
     ]
    }
   ],
   "source": [
    "# 3.多个条件测试\n",
    "# 3.1 使用and\n",
    "number = 5\n",
    "if number > 3 and number < 6:\n",
    "    print(\"number > 3 and number < 6\")"
   ]
  },
  {
   "cell_type": "code",
   "execution_count": 11,
   "metadata": {},
   "outputs": [
    {
     "name": "stdout",
     "output_type": "stream",
     "text": [
      "number > 3 or number < 0\n"
     ]
    }
   ],
   "source": [
    "# 使用or\n",
    "number = 5\n",
    "if number < 3 or number > 6:\n",
    "    print(\"number < 3 or number > 6\")\n",
    "\n",
    "if number > 3 or number < 0:\n",
    "    print(\"number > 3 or number < 0\")"
   ]
  },
  {
   "cell_type": "code",
   "execution_count": 13,
   "metadata": {},
   "outputs": [
    {
     "name": "stdout",
     "output_type": "stream",
     "text": [
      "number > 3\n"
     ]
    }
   ],
   "source": [
    "# if-else 语句\n",
    "number = 5\n",
    "if number > 3:\n",
    "    print(\"number > 3\")\n",
    "else:\n",
    "    print(\"number <= 3\")"
   ]
  },
  {
   "cell_type": "code",
   "execution_count": 14,
   "metadata": {},
   "outputs": [
    {
     "name": "stdout",
     "output_type": "stream",
     "text": [
      "number > 3\n"
     ]
    }
   ],
   "source": [
    "# if-elif-else 语句\n",
    "number = 5\n",
    "if number > 3:\n",
    "    print(\"number > 3\")\n",
    "elif number == 3:\n",
    "    print(\"number = 3\")\n",
    "else:\n",
    "    print(\"number < 3\")"
   ]
  },
  {
   "cell_type": "code",
   "execution_count": 16,
   "metadata": {},
   "outputs": [
    {
     "name": "stdout",
     "output_type": "stream",
     "text": [
      "number > 3\n"
     ]
    }
   ],
   "source": [
    "# 多个elif代码块\n",
    "number = 5\n",
    "if number > 3:\n",
    "    print(\"number > 3\")\n",
    "elif number == 3:\n",
    "    print(\"number = 3\")\n",
    "elif number == 4:\n",
    "    print(\"number = 4\")\n",
    "else:\n",
    "    print(\"number < 3\")"
   ]
  },
  {
   "cell_type": "code",
   "execution_count": 18,
   "metadata": {},
   "outputs": [
    {
     "name": "stdout",
     "output_type": "stream",
     "text": [
      "number = 5\n"
     ]
    }
   ],
   "source": [
    "# 省略else代码块\n",
    "number = 5\n",
    "if number < 3:\n",
    "    print(\"number > 3\")\n",
    "elif number == 3:\n",
    "    print(\"number = 3\")\n",
    "elif number == 4:\n",
    "    print(\"number = 4\")\n",
    "elif number >= 5:\n",
    "    print(\"number = 5\")"
   ]
  },
  {
   "cell_type": "code",
   "execution_count": 19,
   "metadata": {},
   "outputs": [
    {
     "name": "stdout",
     "output_type": "stream",
     "text": [
      "number > 3\n"
     ]
    }
   ],
   "source": [
    "number = 5\n",
    "if number > 3:\n",
    "    print(\"number > 3\")\n",
    "elif number == 3:\n",
    "    print(\"number = 3\")\n",
    "elif number == 4:\n",
    "    print(\"number = 4\")\n",
    "elif number >= 5:\n",
    "    print(\"number = 5\")"
   ]
  },
  {
   "cell_type": "code",
   "execution_count": 21,
   "metadata": {},
   "outputs": [
    {
     "name": "stdout",
     "output_type": "stream",
     "text": [
      "number > 3 and number < 6\n"
     ]
    }
   ],
   "source": [
    "\n",
    "# if语句的嵌套\n",
    "number = 5\n",
    "if number > 3:\n",
    "    if number < 6:\n",
    "        print(\"number > 3 and number < 6\")\n",
    "    else:\n",
    "        print(\"number >= 6\")\n",
    "else:\n",
    "    print(\"number <= 3\")"
   ]
  },
  {
   "cell_type": "code",
   "execution_count": 23,
   "metadata": {},
   "outputs": [
    {
     "name": "stdout",
     "output_type": "stream",
     "text": [
      "list is empty\n"
     ]
    }
   ],
   "source": [
    "# 判断列表是否为空\n",
    "list = []\n",
    "if list:\n",
    "    print(\"list is not empty\")\n",
    "else:\n",
    "    print(\"list is empty\")"
   ]
  },
  {
   "cell_type": "code",
   "execution_count": 25,
   "metadata": {},
   "outputs": [
    {
     "name": "stdout",
     "output_type": "stream",
     "text": [
      "number = 5\n"
     ]
    }
   ],
   "source": [
    "# match-case语句\n",
    "number = 5\n",
    "match number:\n",
    "    case 3:\n",
    "        print(\"number = 3\")\n",
    "    case 4:\n",
    "        print(\"number = 4\")\n",
    "    case 5:\n",
    "        print(\"number = 5\")\n",
    "    case _:\n",
    "        print(\"number is not 3, 4 or 5\")"
   ]
  },
  {
   "cell_type": "code",
   "execution_count": 26,
   "metadata": {},
   "outputs": [
    {
     "name": "stdout",
     "output_type": "stream",
     "text": [
      "number = 3 or 4 or 5\n"
     ]
    }
   ],
   "source": [
    "# match-case语句,一个case多个条件\n",
    "number = 5\n",
    "match number:\n",
    "    case 3 | 4 | 5:\n",
    "        print(\"number = 3 or 4 or 5\")\n",
    "    case _:\n",
    "        print(\"number is not 3, 4 or 5\")\n"
   ]
  }
 ],
 "metadata": {
  "kernelspec": {
   "display_name": "akt-py3.10",
   "language": "python",
   "name": "python3"
  },
  "language_info": {
   "codemirror_mode": {
    "name": "ipython",
    "version": 3
   },
   "file_extension": ".py",
   "mimetype": "text/x-python",
   "name": "python",
   "nbconvert_exporter": "python",
   "pygments_lexer": "ipython3",
   "version": "3.10.14"
  }
 },
 "nbformat": 4,
 "nbformat_minor": 2
}
