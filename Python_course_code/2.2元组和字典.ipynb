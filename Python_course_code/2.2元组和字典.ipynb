{
 "cells": [
  {
   "cell_type": "code",
   "execution_count": 3,
   "metadata": {},
   "outputs": [
    {
     "name": "stdout",
     "output_type": "stream",
     "text": [
      "()\n",
      "(1, 2, 3)\n",
      "<class 'tuple'>\n",
      "<class 'tuple'>\n"
     ]
    }
   ],
   "source": [
    "tup1 = ()\n",
    "print(tup1)\n",
    "tup2 = (1, 2, 3)\n",
    "print(tup2)\n",
    "print(type(tup1))\n",
    "print(type(tup2))"
   ]
  },
  {
   "cell_type": "code",
   "execution_count": 6,
   "metadata": {},
   "outputs": [
    {
     "name": "stdout",
     "output_type": "stream",
     "text": [
      "<class 'int'>\n",
      "<class 'tuple'>\n"
     ]
    }
   ],
   "source": [
    "tup1 = (50)\n",
    "print(type(tup1))     # 不加逗号，类型为整型\n",
    "\n",
    "\n",
    "tup2 = (50,)\n",
    "print(type(tup2) )    # 加上逗号，类型为元组\n"
   ]
  },
  {
   "cell_type": "code",
   "execution_count": 10,
   "metadata": {},
   "outputs": [
    {
     "name": "stdout",
     "output_type": "stream",
     "text": [
      "tup1[0]:  Google\n",
      "tup2[1:5]:  (2, 3, 4, 5)\n",
      "tup2[2:]:  (3, 4, 5, 6, 7)\n",
      "tup2[:5]:  (1, 2, 3, 4, 5)\n",
      "tup2[:]:  (1, 2, 3, 4, 5, 6, 7)\n",
      "tup2[::2]:  (1, 3, 5, 7)\n",
      "tup2[::-1]:  (7, 6, 5, 4, 3, 2, 1)\n",
      "tup2[1:-2]:  (2, 3, 4, 5)\n",
      "tup2[1::2]:  (2, 4, 6)\n"
     ]
    }
   ],
   "source": [
    "# 元组的访问\n",
    "tup1 = ('Google', 'Runoob', 1997, 2000)\n",
    "tup2 = (1, 2, 3, 4, 5, 6, 7)\n",
    "print(\"tup1[0]: \", tup1[0])\n",
    "print(\"tup2[1:5]: \", tup2[1:5])\n",
    "print(\"tup2[2:]: \", tup2[2:])\n",
    "print(\"tup2[:5]: \", tup2[:5])\n",
    "print(\"tup2[:]: \", tup2[:])\n",
    "print(\"tup2[::2]: \", tup2[::2])\n",
    "print(\"tup2[::-1]: \", tup2[::-1])\n",
    "print(\"tup2[1:-2]: \", tup2[1:-2])\n",
    "print(\"tup2[1::2]: \", tup2[1::2])"
   ]
  },
  {
   "cell_type": "code",
   "execution_count": 13,
   "metadata": {},
   "outputs": [
    {
     "ename": "TypeError",
     "evalue": "'tuple' object does not support item assignment",
     "output_type": "error",
     "traceback": [
      "\u001b[1;31m---------------------------------------------------------------------------\u001b[0m",
      "\u001b[1;31mTypeError\u001b[0m                                 Traceback (most recent call last)",
      "Cell \u001b[1;32mIn[13], line 3\u001b[0m\n\u001b[0;32m      1\u001b[0m \u001b[38;5;66;03m# 修改元组\u001b[39;00m\n\u001b[0;32m      2\u001b[0m tup1 \u001b[38;5;241m=\u001b[39m (\u001b[38;5;241m12\u001b[39m, \u001b[38;5;241m34.56\u001b[39m)\n\u001b[1;32m----> 3\u001b[0m \u001b[43mtup\u001b[49m\u001b[43m[\u001b[49m\u001b[38;5;241;43m0\u001b[39;49m\u001b[43m]\u001b[49m \u001b[38;5;241m=\u001b[39m \u001b[38;5;241m100\u001b[39m  \u001b[38;5;66;03m# 修改元组元素的操作是非法的\u001b[39;00m\n",
      "\u001b[1;31mTypeError\u001b[0m: 'tuple' object does not support item assignment"
     ]
    }
   ],
   "source": [
    "# 修改元组\n",
    "tup1 = (12, 34.56)\n",
    "tup[0] = 100  # 修改元组元素的操作是非法的"
   ]
  },
  {
   "cell_type": "code",
   "execution_count": 12,
   "metadata": {},
   "outputs": [
    {
     "name": "stdout",
     "output_type": "stream",
     "text": [
      "(12, 34.56)\n",
      "('abc', 'xyz')\n"
     ]
    }
   ],
   "source": [
    "# 修改元组变量\n",
    "tup1 = (12, 34.56)\n",
    "print(tup1)\n",
    "tup1 = ('abc', 'xyz')\n",
    "print(tup1)"
   ]
  },
  {
   "cell_type": "code",
   "execution_count": 11,
   "metadata": {},
   "outputs": [
    {
     "name": "stdout",
     "output_type": "stream",
     "text": [
      "(12, 34.56, 'abc', 'xyz')\n"
     ]
    }
   ],
   "source": [
    "# 修改元组\n",
    "tup1 = (12, 34.56)\n",
    "tup2 = ('abc', 'xyz')\n",
    "tup3 = tup1 + tup2\n",
    "print(tup3)\n"
   ]
  },
  {
   "cell_type": "code",
   "execution_count": 14,
   "metadata": {},
   "outputs": [
    {
     "name": "stdout",
     "output_type": "stream",
     "text": [
      "('Google', 'Runoob', 1997, 2000)\n",
      "删除后的元组 tup : \n"
     ]
    },
    {
     "ename": "NameError",
     "evalue": "name 'tup' is not defined",
     "output_type": "error",
     "traceback": [
      "\u001b[1;31m---------------------------------------------------------------------------\u001b[0m",
      "\u001b[1;31mNameError\u001b[0m                                 Traceback (most recent call last)",
      "Cell \u001b[1;32mIn[14], line 6\u001b[0m\n\u001b[0;32m      4\u001b[0m \u001b[38;5;28;01mdel\u001b[39;00m tup\n\u001b[0;32m      5\u001b[0m \u001b[38;5;28mprint\u001b[39m(\u001b[38;5;124m\"\u001b[39m\u001b[38;5;124m删除后的元组 tup : \u001b[39m\u001b[38;5;124m\"\u001b[39m)\n\u001b[1;32m----> 6\u001b[0m \u001b[38;5;28mprint\u001b[39m(\u001b[43mtup\u001b[49m)  \u001b[38;5;66;03m# 删除后的元组 tup : NameError: name 'tup' is not defined\u001b[39;00m\n",
      "\u001b[1;31mNameError\u001b[0m: name 'tup' is not defined"
     ]
    }
   ],
   "source": [
    "# 删除元组\n",
    "tup = ('Google', 'Runoob', 1997, 2000)\n",
    "print(tup)\n",
    "del tup\n",
    "print(\"删除后的元组 tup : \")\n",
    "print(tup)  # 删除后的元组 tup : NameError: name 'tup' is not defined"
   ]
  },
  {
   "cell_type": "code",
   "execution_count": 15,
   "metadata": {},
   "outputs": [
    {
     "name": "stdout",
     "output_type": "stream",
     "text": [
      "3\n",
      "('Google', 'Runoob', 1997, 1, 2, 3)\n",
      "('Google', 'Runoob', 1997, 'Google', 'Runoob', 1997)\n",
      "True\n",
      "1\n",
      "2\n",
      "3\n"
     ]
    }
   ],
   "source": [
    "# 元组运算符\n",
    "tup1 = ('Google', 'Runoob', 1997)\n",
    "tup2 = (1, 2, 3)\n",
    "print(len(tup1))\n",
    "print(tup1 + tup2)\n",
    "print(tup1 * 2)\n",
    "print(3 in tup2)\n",
    "for x in tup2:\n",
    "    print(x)\n",
    "    "
   ]
  },
  {
   "cell_type": "code",
   "execution_count": 17,
   "metadata": {},
   "outputs": [
    {
     "ename": "TypeError",
     "evalue": "'tuple' object does not support item assignment",
     "output_type": "error",
     "traceback": [
      "\u001b[1;31m---------------------------------------------------------------------------\u001b[0m",
      "\u001b[1;31mTypeError\u001b[0m                                 Traceback (most recent call last)",
      "Cell \u001b[1;32mIn[17], line 2\u001b[0m\n\u001b[0;32m      1\u001b[0m tup \u001b[38;5;241m=\u001b[39m (\u001b[38;5;124m'\u001b[39m\u001b[38;5;124mr\u001b[39m\u001b[38;5;124m'\u001b[39m, \u001b[38;5;124m'\u001b[39m\u001b[38;5;124mu\u001b[39m\u001b[38;5;124m'\u001b[39m, \u001b[38;5;124m'\u001b[39m\u001b[38;5;124mn\u001b[39m\u001b[38;5;124m'\u001b[39m, \u001b[38;5;124m'\u001b[39m\u001b[38;5;124mo\u001b[39m\u001b[38;5;124m'\u001b[39m, \u001b[38;5;124m'\u001b[39m\u001b[38;5;124mo\u001b[39m\u001b[38;5;124m'\u001b[39m, \u001b[38;5;124m'\u001b[39m\u001b[38;5;124mb\u001b[39m\u001b[38;5;124m'\u001b[39m)\n\u001b[1;32m----> 2\u001b[0m \u001b[43mtup\u001b[49m\u001b[43m[\u001b[49m\u001b[38;5;241;43m0\u001b[39;49m\u001b[43m]\u001b[49m \u001b[38;5;241m=\u001b[39m \u001b[38;5;124m'\u001b[39m\u001b[38;5;124mg\u001b[39m\u001b[38;5;124m'\u001b[39m     \u001b[38;5;66;03m# 不支持修改元素\u001b[39;00m\n\u001b[0;32m      4\u001b[0m \u001b[38;5;28mid\u001b[39m(tup)     \u001b[38;5;66;03m# 查看内存地址\u001b[39;00m\n\u001b[0;32m      6\u001b[0m tup \u001b[38;5;241m=\u001b[39m (\u001b[38;5;241m1\u001b[39m,\u001b[38;5;241m2\u001b[39m,\u001b[38;5;241m3\u001b[39m)\n",
      "\u001b[1;31mTypeError\u001b[0m: 'tuple' object does not support item assignment"
     ]
    }
   ],
   "source": [
    "tup = ('r', 'u', 'n', 'o', 'o', 'b')\n",
    "tup[0] = 'g'     # 不支持修改元素\n"
   ]
  },
  {
   "cell_type": "code",
   "execution_count": 19,
   "metadata": {},
   "outputs": [
    {
     "name": "stdout",
     "output_type": "stream",
     "text": [
      "2197559997888\n",
      "2197559844352\n"
     ]
    }
   ],
   "source": [
    "print(id(tup))     # 查看内存地址\n",
    "tup = (1,2,3)\n",
    "print(id(tup))"
   ]
  },
  {
   "cell_type": "code",
   "execution_count": 20,
   "metadata": {},
   "outputs": [
    {
     "name": "stdout",
     "output_type": "stream",
     "text": [
      "{}\n",
      "{'name': 'runoob', 'age': 7, 'class': 'first'}\n",
      "<class 'dict'>\n",
      "<class 'dict'>\n"
     ]
    }
   ],
   "source": [
    "# 字典的创建\n",
    "dict1 = {}\n",
    "print(dict1)\n",
    "dict2 = {'name': 'runoob', 'age': 7, 'class': 'first'}\n",
    "print(dict2)\n",
    "print(type(dict1))\n",
    "print(type(dict2))"
   ]
  },
  {
   "cell_type": "code",
   "execution_count": 21,
   "metadata": {},
   "outputs": [
    {
     "name": "stdout",
     "output_type": "stream",
     "text": [
      "dict['Name']:  Runoob\n",
      "dict['Age']:  7\n"
     ]
    }
   ],
   "source": [
    "# 访问字典里的值\n",
    "dict = {'Name': 'Runoob', 'Age': 7, 'Class': 'First'}\n",
    "print(\"dict['Name']: \", dict['Name'])\n",
    "print(\"dict['Age']: \", dict['Age'])"
   ]
  },
  {
   "cell_type": "code",
   "execution_count": 28,
   "metadata": {},
   "outputs": [
    {
     "name": "stdout",
     "output_type": "stream",
     "text": [
      "dict['Alice']:  None\n",
      "dict['Alice']:  不存在\n"
     ]
    }
   ],
   "source": [
    "#get()方法\n",
    "dict = {'Name': 'Runoob', 'Age': 7, 'Class': 'First'}\n",
    "print(\"dict['Alice']: \", dict.get('Alice'))\n",
    "print(\"dict['Alice']: \", dict.get('Alice', '不存在'))"
   ]
  },
  {
   "cell_type": "code",
   "execution_count": 25,
   "metadata": {},
   "outputs": [
    {
     "name": "stdout",
     "output_type": "stream",
     "text": [
      "{'Name': 'Runoob', 'Age': 7, 'Class': 'First', 'Hobby': 'swimming'}\n"
     ]
    }
   ],
   "source": [
    "# 添加键值对\n",
    "dict = {'Name': 'Runoob', 'Age': 7, 'Class': 'First'}\n",
    "dict['Hobby'] = 'swimming'\n",
    "print(dict)\n",
    "# 在字典中间插入键值对\n",
    "dict = {'Name': 'Runoob', 'Age': 7, 'Class': 'First'}\n",
    "\n"
   ]
  },
  {
   "cell_type": "code",
   "execution_count": 26,
   "metadata": {},
   "outputs": [
    {
     "name": "stdout",
     "output_type": "stream",
     "text": [
      "{'Name': 'Runoob', 'Age': 8, 'Class': 'First'}\n"
     ]
    }
   ],
   "source": [
    "# 修改字典\n",
    "dict = {'Name': 'Runoob', 'Age': 7, 'Class': 'First'}\n",
    "dict['Age'] = 8\n",
    "print(dict)"
   ]
  },
  {
   "cell_type": "code",
   "execution_count": 27,
   "metadata": {},
   "outputs": [
    {
     "name": "stdout",
     "output_type": "stream",
     "text": [
      "{'Age': 7, 'Class': 'First'}\n"
     ]
    }
   ],
   "source": [
    "# 删除字典元素\n",
    "dict = {'Name': 'Runoob', 'Age': 7, 'Class': 'First'}\n",
    "del dict['Name']\n",
    "print(dict)"
   ]
  },
  {
   "cell_type": "code",
   "execution_count": 29,
   "metadata": {},
   "outputs": [
    {
     "name": "stdout",
     "output_type": "stream",
     "text": [
      "{'Name': '小菜鸟', 'Age': 7}\n"
     ]
    }
   ],
   "source": [
    "# 字典创建时重复赋值\n",
    "dict = {'Name': 'Runoob', 'Age': 7, 'Name': '小菜鸟'}\n",
    "print(dict)"
   ]
  },
  {
   "cell_type": "code",
   "execution_count": 31,
   "metadata": {},
   "outputs": [
    {
     "ename": "TypeError",
     "evalue": "unhashable type: 'list'",
     "output_type": "error",
     "traceback": [
      "\u001b[1;31m---------------------------------------------------------------------------\u001b[0m",
      "\u001b[1;31mTypeError\u001b[0m                                 Traceback (most recent call last)",
      "Cell \u001b[1;32mIn[31], line 1\u001b[0m\n\u001b[1;32m----> 1\u001b[0m tinydict \u001b[38;5;241m=\u001b[39m {[\u001b[38;5;124m'\u001b[39m\u001b[38;5;124mName\u001b[39m\u001b[38;5;124m'\u001b[39m]: \u001b[38;5;124m'\u001b[39m\u001b[38;5;124mRunoob\u001b[39m\u001b[38;5;124m'\u001b[39m, \u001b[38;5;124m'\u001b[39m\u001b[38;5;124mAge\u001b[39m\u001b[38;5;124m'\u001b[39m: \u001b[38;5;241m7\u001b[39m}\n\u001b[0;32m      3\u001b[0m \u001b[38;5;28mprint\u001b[39m (\u001b[38;5;124m\"\u001b[39m\u001b[38;5;124mtinydict[\u001b[39m\u001b[38;5;124m'\u001b[39m\u001b[38;5;124mName\u001b[39m\u001b[38;5;124m'\u001b[39m\u001b[38;5;124m]: \u001b[39m\u001b[38;5;124m\"\u001b[39m, tinydict[\u001b[38;5;124m'\u001b[39m\u001b[38;5;124mName\u001b[39m\u001b[38;5;124m'\u001b[39m])\n",
      "\u001b[1;31mTypeError\u001b[0m: unhashable type: 'list'"
     ]
    }
   ],
   "source": [
    "tinydict = {['Name']: 'Runoob', 'Age': 7}\n",
    " \n",
    "print (\"tinydict['Name']: \", tinydict['Name'])"
   ]
  },
  {
   "cell_type": "code",
   "execution_count": 35,
   "metadata": {},
   "outputs": [
    {
     "name": "stdout",
     "output_type": "stream",
     "text": [
      "[{'Name': 'Runoob', 'Age': 7}, {'Sex': 'female'}, {'Name': '小菜鸟', 'Age': 7}]\n"
     ]
    }
   ],
   "source": [
    "# 多个字典组合成一个列表\n",
    "dict1 = {'Name': 'Runoob', 'Age': 7}\n",
    "dict2 = {'Sex': 'female'}\n",
    "dict3 = {'Name': '小菜鸟', 'Age': 7}\n",
    "list = [dict1, dict2, dict3]\n",
    "print(list)"
   ]
  },
  {
   "cell_type": "code",
   "execution_count": 36,
   "metadata": {},
   "outputs": [
    {
     "name": "stdout",
     "output_type": "stream",
     "text": [
      "{'Name': ['Runoob', '小菜鸟'], 'Age': 7}\n"
     ]
    }
   ],
   "source": [
    "# 列表作为键值对的值\n",
    "dict = {'Name': ['Runoob', '小菜鸟'], 'Age': 7}\n",
    "print(dict)"
   ]
  },
  {
   "cell_type": "code",
   "execution_count": 37,
   "metadata": {},
   "outputs": [
    {
     "name": "stdout",
     "output_type": "stream",
     "text": [
      "{'Name': {'Name': 'Runoob', 'Age': 7}, 'Age': 7}\n",
      "{'Name': {'Name': {'Name': 'Runoob', 'Age': 7}, 'Age': 7}, 'Age': 7}\n"
     ]
    }
   ],
   "source": [
    "# 字典作为键值对的值并且无限套娃\n",
    "dict = {'Name': {'Name': 'Runoob', 'Age': 7}, 'Age': 7}\n",
    "print(dict)\n",
    "# 多层嵌套\n",
    "dict = {'Name': {'Name': {'Name': 'Runoob', 'Age': 7}, 'Age': 7}, 'Age': 7}\n",
    "print(dict)"
   ]
  },
  {
   "cell_type": "code",
   "execution_count": 32,
   "metadata": {},
   "outputs": [
    {
     "name": "stdout",
     "output_type": "stream",
     "text": [
      "{'Name': 'Runoob', 'Age': 7, 'Class': 'First', 'Hobby': {'first': 'swimming', 'second': 'reading'}}\n"
     ]
    }
   ],
   "source": [
    "# 字典的嵌套\n",
    "dict = {'Name': 'Runoob', 'Age': 7, 'Class': 'First'}\n",
    "dict['Hobby'] = {'first': 'swimming', 'second': 'reading'}\n",
    "print(dict)"
   ]
  },
  {
   "cell_type": "code",
   "execution_count": 38,
   "metadata": {},
   "outputs": [
    {
     "name": "stdout",
     "output_type": "stream",
     "text": [
      "{'Name': 'Runoob', 'Age': 7, 'Class': 'First'}\n",
      "3\n",
      "{'Name': 'Runoob', 'Age': 7, 'Class': 'First'}\n",
      "<class 'dict'>\n",
      "dict_items([('Name', 'Runoob'), ('Age', 7), ('Class', 'First')])\n",
      "dict_keys(['Name', 'Age', 'Class'])\n",
      "dict_values(['Runoob', 7, 'First'])\n",
      "Runoob\n",
      "{'Age': 7, 'Class': 'First'}\n",
      "('Class', 'First')\n",
      "{'Age': 7}\n",
      "{}\n"
     ]
    }
   ],
   "source": [
    "# 字典的内置函数\n",
    "dict = {'Name': 'Runoob', 'Age': 7, 'Class': 'First'}\n",
    "print(dict)\n",
    "print(len(dict))\n",
    "print(str(dict))\n",
    "print(type(dict))\n",
    "print(dict.items())\n",
    "print(dict.keys())\n",
    "print(dict.values())\n",
    "print(dict.pop('Name'))\n",
    "print(dict)\n",
    "print(dict.popitem())\n",
    "print(dict)\n",
    "dict.clear()\n",
    "print(dict)"
   ]
  }
 ],
 "metadata": {
  "kernelspec": {
   "display_name": "akt-py3.10",
   "language": "python",
   "name": "python3"
  },
  "language_info": {
   "codemirror_mode": {
    "name": "ipython",
    "version": 3
   },
   "file_extension": ".py",
   "mimetype": "text/x-python",
   "name": "python",
   "nbconvert_exporter": "python",
   "pygments_lexer": "ipython3",
   "version": "3.10.14"
  }
 },
 "nbformat": 4,
 "nbformat_minor": 2
}
