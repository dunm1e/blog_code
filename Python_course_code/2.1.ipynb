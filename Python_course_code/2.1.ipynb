{
 "cells": [
  {
   "cell_type": "code",
   "execution_count": 2,
   "metadata": {},
   "outputs": [
    {
     "name": "stdout",
     "output_type": "stream",
     "text": [
      "['trek', 'cannondale', 'redline', 'specialized']\n",
      "['Google', 'Runoob', 1997, 2000]\n",
      "[1, 2, 3, 4, 5]\n",
      "['a', 'b', 'c', 'd']\n",
      "['red', 'green', 'blue', 'yellow', 'white', 'black']\n"
     ]
    }
   ],
   "source": [
    "bicycles = ['trek', 'cannondale', 'redline', 'specialized']\n",
    "list1 = ['Google', 'Runoob', 1997, 2000]\n",
    "list2 = [1, 2, 3, 4, 5 ]\n",
    "list3 = [\"a\", \"b\", \"c\", \"d\"]\n",
    "list4 = ['red', 'green', 'blue', 'yellow', 'white', 'black']\n",
    "print(bicycles)\n",
    "print(list1)\n",
    "print(list2)\n",
    "print(list3)\n",
    "print(list4)\n"
   ]
  },
  {
   "cell_type": "code",
   "execution_count": 3,
   "metadata": {},
   "outputs": [
    {
     "name": "stdout",
     "output_type": "stream",
     "text": [
      "red\n",
      "green\n",
      "blue\n"
     ]
    }
   ],
   "source": [
    "list = ['red', 'green', 'blue', 'yellow', 'white', 'black']\n",
    "print( list[0] )\n",
    "print( list[1] )\n",
    "print( list[2] )"
   ]
  },
  {
   "cell_type": "code",
   "execution_count": 5,
   "metadata": {},
   "outputs": [
    {
     "name": "stdout",
     "output_type": "stream",
     "text": [
      "black\n",
      "white\n",
      "yellow\n"
     ]
    }
   ],
   "source": [
    "list = ['red', 'green', 'blue', 'yellow', 'white', 'black']\n",
    "print( list[-1] )\n",
    "print( list[-2] )\n",
    "print( list[-3] )"
   ]
  },
  {
   "cell_type": "code",
   "execution_count": 1,
   "metadata": {},
   "outputs": [
    {
     "name": "stdout",
     "output_type": "stream",
     "text": [
      "list[0]: red\n"
     ]
    }
   ],
   "source": [
    "# f标准化输出\n",
    "list = ['red', 'green', 'blue', 'yellow', 'white', 'black']\n",
    "print(f\"list[0]: {list[0]}\")"
   ]
  },
  {
   "cell_type": "code",
   "execution_count": 10,
   "metadata": {},
   "outputs": [
    {
     "name": "stdout",
     "output_type": "stream",
     "text": [
      "['Taobao', 'Baidu', 'QQ', 'Sohu']\n",
      "['Google', 'Runoob', 'Taobao']\n",
      "['Runoob', 'Baidu']\n",
      "['Google', 'Taobao', 'QQ']\n"
     ]
    }
   ],
   "source": [
    "# 列表的切片\n",
    "list = ['Google', 'Runoob', 'Taobao', 'Baidu', 'QQ', 'Sohu']\n",
    "print(list[2:])\n",
    "print(list[:3])\n",
    "print(list[1:-1:2])\n",
    "print(list[::2])"
   ]
  },
  {
   "cell_type": "code",
   "execution_count": 11,
   "metadata": {},
   "outputs": [
    {
     "name": "stdout",
     "output_type": "stream",
     "text": [
      "第三个元素为: Taobao\n",
      "第三个元素为: Bing\n"
     ]
    }
   ],
   "source": [
    "# 列表的修改\n",
    "list = ['Google', 'Runoob', 'Taobao', 'Baidu']\n",
    "print(f\"第三个元素为: {list[2]}\")\n",
    "list[2] = 'Bing'\n",
    "print(f\"第三个元素为: {list[2]}\")"
   ]
  },
  {
   "cell_type": "code",
   "execution_count": 12,
   "metadata": {},
   "outputs": [
    {
     "name": "stdout",
     "output_type": "stream",
     "text": [
      "更新后的列表: ['Google', 'Runoob', 'Taobao', 'Baidu', 'Youdao']\n"
     ]
    }
   ],
   "source": [
    "# 列表的添加\n",
    "list = ['Google', 'Runoob', 'Taobao', 'Baidu']\n",
    "list.append('Youdao')\n",
    "print(f\"更新后的列表: {list}\")\n"
   ]
  },
  {
   "cell_type": "code",
   "execution_count": 15,
   "metadata": {},
   "outputs": [
    {
     "name": "stdout",
     "output_type": "stream",
     "text": [
      "删除第三个元素: ['Google', 'Runoob', 'Baidu']\n"
     ]
    }
   ],
   "source": [
    "# 列表的删除\n",
    "list = ['Google', 'Runoob', 'Taobao', 'Baidu']\n",
    "del list[2]\n",
    "print(f\"删除第三个元素: {list}\")"
   ]
  },
  {
   "cell_type": "code",
   "execution_count": 23,
   "metadata": {},
   "outputs": [
    {
     "name": "stdout",
     "output_type": "stream",
     "text": [
      "删除元素后: ['Google', 'Runoob', 'Taobao']\n",
      "删除的元素为: Runoob\n"
     ]
    }
   ],
   "source": [
    "list = ['Google', 'Runoob', 'Taobao', 'Baidu']\n",
    "list.pop()\n",
    "print(f\"删除元素后: {list}\")\n",
    "data_pop = list.pop(1)\n",
    "print(f\"删除的元素为: {data_pop}\")"
   ]
  },
  {
   "cell_type": "code",
   "execution_count": 22,
   "metadata": {},
   "outputs": [
    {
     "name": "stdout",
     "output_type": "stream",
     "text": [
      "列表插入元素后为: ['Google', 'Bing', 'Runoob', 'Taobao', 'Baidu']\n",
      "列表插入元素后为: ['Google', ['Bing', 'Ali'], 'Runoob', 'Taobao', 'Baidu']\n"
     ]
    }
   ],
   "source": [
    "# insert\n",
    "list = ['Google', 'Runoob', 'Taobao', 'Baidu']\n",
    "list.insert(1, 'Bing')\n",
    "print(f\"列表插入元素后为: {list}\")\n",
    "# 多个元素插入\n",
    "list = ['Google', 'Runoob', 'Taobao', 'Baidu']\n",
    "list.insert(1,['Bing', 'Ali'])\n",
    "print(f\"列表插入元素后为: {list}\")\n"
   ]
  },
  {
   "cell_type": "code",
   "execution_count": 25,
   "metadata": {},
   "outputs": [
    {
     "name": "stdout",
     "output_type": "stream",
     "text": [
      "列表现在为: ['Google', 'Runoob', 'Baidu']\n",
      "列表现在为: ['Google', 'Runoob', 'Baidu', 'Taobao']\n"
     ]
    }
   ],
   "source": [
    "# remove()\n",
    "list = ['Google', 'Runoob', 'Taobao', 'Baidu']\n",
    "list.remove('Taobao')\n",
    "print(f\"列表现在为: {list}\")\n",
    "list = ['Google', 'Runoob', 'Taobao', 'Baidu', 'Taobao']\n",
    "list.remove('Taobao')\n",
    "print(f\"列表现在为: {list}\")"
   ]
  },
  {
   "cell_type": "code",
   "execution_count": 27,
   "metadata": {},
   "outputs": [
    {
     "name": "stdout",
     "output_type": "stream",
     "text": [
      "列表排序后: ['Baidu', 'Google', 'Runoob', 'Taobao']\n",
      "数字排序后: [1, 2, 3, 4]\n"
     ]
    }
   ],
   "source": [
    "#字母\n",
    "list = ['Google', 'Runoob', 'Taobao', 'Baidu']\n",
    "list.sort()\n",
    "print(f\"字母排序后: {list}\")\n",
    "#数字\n",
    "a = [1, 3, 4, 2]\n",
    "a.sort()\n",
    "print(f\"数字排序后: {a}\")\n",
    "\n",
    "\n"
   ]
  },
  {
   "cell_type": "code",
   "execution_count": 28,
   "metadata": {},
   "outputs": [
    {
     "name": "stdout",
     "output_type": "stream",
     "text": [
      "数字逆序排序后: [4, 3, 2, 1]\n"
     ]
    }
   ],
   "source": [
    "#逆序\n",
    "a = [1, 3, 4, 2]\n",
    "a.sort(reverse=True)\n",
    "print(f\"数字逆序排序后: {a}\")"
   ]
  },
  {
   "cell_type": "code",
   "execution_count": 29,
   "metadata": {},
   "outputs": [
    {
     "name": "stdout",
     "output_type": "stream",
     "text": [
      "排序后的列表: [1, 2, 3, 4]\n",
      "原始列表: [1, 3, 4, 2]\n"
     ]
    }
   ],
   "source": [
    "# sorted() 函数\n",
    "a = [1, 3, 4, 2]\n",
    "b = sorted(a)\n",
    "print(f\"排序后的列表: {b}\")\n",
    "print(f\"原始列表: {a}\")\n"
   ]
  },
  {
   "cell_type": "code",
   "execution_count": 30,
   "metadata": {},
   "outputs": [
    {
     "name": "stdout",
     "output_type": "stream",
     "text": [
      "逆序列表: [2, 4, 3, 1]\n"
     ]
    }
   ],
   "source": [
    "#reverse() 函数\n",
    "a = [1, 3, 4, 2]\n",
    "a.reverse()\n",
    "print(f\"逆序列表: {a}\")"
   ]
  },
  {
   "cell_type": "code",
   "execution_count": 31,
   "metadata": {},
   "outputs": [
    {
     "name": "stdout",
     "output_type": "stream",
     "text": [
      "1 元素个数为: 3\n",
      "2 元素个数为: 1\n"
     ]
    }
   ],
   "source": [
    "# count() 函数\n",
    "a = [1, 1, 2, 3, 4, 5, 1]\n",
    "print(f\"1 元素个数为: {a.count(1)}\")\n",
    "print(f\"2 元素个数为: {a.count(2)}\")"
   ]
  },
  {
   "cell_type": "code",
   "execution_count": 32,
   "metadata": {},
   "outputs": [
    {
     "name": "stdout",
     "output_type": "stream",
     "text": [
      "扩展后的列表: [1, 2, 3, 4, 5, 6]\n"
     ]
    }
   ],
   "source": [
    "#extend() 函数\n",
    "a = [1, 2, 3]\n",
    "b = [4, 5, 6]\n",
    "a.extend(b)\n",
    "print(f\"扩展后的列表: {a}\")"
   ]
  },
  {
   "cell_type": "code",
   "execution_count": 33,
   "metadata": {},
   "outputs": [
    {
     "name": "stdout",
     "output_type": "stream",
     "text": [
      "1 的索引值为: 0\n",
      "5 的索引值为: 4\n"
     ]
    }
   ],
   "source": [
    "# index() 函数\n",
    "a = [1, 2, 3, 4, 5, 1, 2, 3]\n",
    "print(f\"1 的索引值为: {a.index(1)}\")\n",
    "print(f\"5 的索引值为: {a.index(5)}\")"
   ]
  },
  {
   "cell_type": "code",
   "execution_count": 34,
   "metadata": {},
   "outputs": [
    {
     "name": "stdout",
     "output_type": "stream",
     "text": [
      "复制后的列表: [1, 2, 3, 4, 5]\n"
     ]
    }
   ],
   "source": [
    "# copy() 函数\n",
    "a = [1, 2, 3, 4, 5]\n",
    "b = a.copy()\n",
    "print(f\"复制后的列表: {b}\")"
   ]
  },
  {
   "cell_type": "code",
   "execution_count": 35,
   "metadata": {},
   "outputs": [
    {
     "name": "stdout",
     "output_type": "stream",
     "text": [
      "清空后的列表: []\n"
     ]
    }
   ],
   "source": [
    "# clear() 函数\n",
    "a = [1, 2, 3, 4, 5]\n",
    "a.clear()\n",
    "print(f\"清空后的列表: {a}\")"
   ]
  },
  {
   "cell_type": "code",
   "execution_count": null,
   "metadata": {},
   "outputs": [],
   "source": []
  }
 ],
 "metadata": {
  "kernelspec": {
   "display_name": "akt-py3.10",
   "language": "python",
   "name": "akt-py3.10"
  },
  "language_info": {
   "codemirror_mode": {
    "name": "ipython",
    "version": 3
   },
   "file_extension": ".py",
   "mimetype": "text/x-python",
   "name": "python",
   "nbconvert_exporter": "python",
   "pygments_lexer": "ipython3",
   "version": "3.10.14"
  }
 },
 "nbformat": 4,
 "nbformat_minor": 2
}
